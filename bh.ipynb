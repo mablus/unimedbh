{
  "nbformat": 4,
  "nbformat_minor": 0,
  "metadata": {
    "colab": {
      "private_outputs": true,
      "provenance": [],
      "authorship_tag": "ABX9TyNjwZ75sMmXoGsCgsJdibkL",
      "include_colab_link": true
    },
    "kernelspec": {
      "name": "python3",
      "display_name": "Python 3"
    },
    "language_info": {
      "name": "python"
    }
  },
  "cells": [
    {
      "cell_type": "markdown",
      "metadata": {
        "id": "view-in-github",
        "colab_type": "text"
      },
      "source": [
        "<a href=\"https://colab.research.google.com/github/mablus/unimedbh/blob/main/bh.ipynb\" target=\"_parent\"><img src=\"https://colab.research.google.com/assets/colab-badge.svg\" alt=\"Open In Colab\"/></a>"
      ]
    },
    {
      "cell_type": "code",
      "execution_count": null,
      "metadata": {
        "id": "4SExz6k8i8yP"
      },
      "outputs": [],
      "source": [
        "import pandas as pd\n"
      ]
    },
    {
      "cell_type": "code",
      "source": [
        "df = pd.read_csv(\"https://4va.github.io/biodatasci/data/gapminder.csv\")"
      ],
      "metadata": {
        "id": "x-12yLDOkHzH"
      },
      "execution_count": null,
      "outputs": []
    },
    {
      "cell_type": "code",
      "source": [],
      "metadata": {
        "id": "eUHxGOgOkNQP"
      },
      "execution_count": null,
      "outputs": []
    },
    {
      "cell_type": "code",
      "source": [
        "df.head()"
      ],
      "metadata": {
        "id": "WUAMUEwIkNR0"
      },
      "execution_count": null,
      "outputs": []
    },
    {
      "cell_type": "code",
      "source": [
        "df.shape"
      ],
      "metadata": {
        "id": "CawUkw-vkW5A"
      },
      "execution_count": null,
      "outputs": []
    },
    {
      "cell_type": "code",
      "source": [
        "df.tail(15)"
      ],
      "metadata": {
        "id": "cg-y2PVzkW6i"
      },
      "execution_count": null,
      "outputs": []
    },
    {
      "cell_type": "code",
      "source": [
        "df.tail(15)"
      ],
      "metadata": {
        "id": "cGZwACjIkgxl"
      },
      "execution_count": null,
      "outputs": []
    },
    {
      "cell_type": "code",
      "source": [
        "df = df.rename(columns={\"country\":\"Pais\",\"continent\":\"Continente\",\"year\":\"Ano\",\"lifeExp\":\"ExpVida\"})"
      ],
      "metadata": {
        "id": "5IywdBidmxMM"
      },
      "execution_count": null,
      "outputs": []
    },
    {
      "cell_type": "code",
      "source": [
        "df.columns"
      ],
      "metadata": {
        "id": "_y3klCrdm6zB"
      },
      "execution_count": null,
      "outputs": []
    },
    {
      "cell_type": "code",
      "source": [
        "df.describe()"
      ],
      "metadata": {
        "id": "ytl5kVpsm-uU"
      },
      "execution_count": null,
      "outputs": []
    },
    {
      "cell_type": "code",
      "source": [
        "df[\"Continente\"].unique()"
      ],
      "metadata": {
        "id": "ckhrH5QMnAO_"
      },
      "execution_count": null,
      "outputs": []
    },
    {
      "cell_type": "code",
      "source": [
        "Asia = df.loc[df[\"Continente\"]==\"Asia\"]\n",
        "Asia.head()"
      ],
      "metadata": {
        "id": "wQZbszvLnF9v"
      },
      "execution_count": null,
      "outputs": []
    },
    {
      "cell_type": "code",
      "source": [
        "df.groupby(\"Continente\")[\"Pais\"].nunique()"
      ],
      "metadata": {
        "id": "qSS1mCrbnJHs"
      },
      "execution_count": null,
      "outputs": []
    },
    {
      "cell_type": "code",
      "source": [
        "df[\"pop\"].mean()"
      ],
      "metadata": {
        "id": "5EoqBX8MnMHp"
      },
      "execution_count": null,
      "outputs": []
    },
    {
      "cell_type": "code",
      "source": [],
      "metadata": {
        "id": "ItDqKFd3nY38"
      },
      "execution_count": null,
      "outputs": []
    },
    {
      "cell_type": "code",
      "source": [
        "df[\"pop\"].sum()"
      ],
      "metadata": {
        "id": "89lNwtJPnY5N"
      },
      "execution_count": null,
      "outputs": []
    },
    {
      "cell_type": "code",
      "source": [
        "Asia.sample(10)"
      ],
      "metadata": {
        "id": "ezMnEnONncoV"
      },
      "execution_count": null,
      "outputs": []
    },
    {
      "cell_type": "code",
      "source": [
        "Asia.sample()"
      ],
      "metadata": {
        "id": "MgsMYrf4npZQ"
      },
      "execution_count": null,
      "outputs": []
    },
    {
      "cell_type": "code",
      "source": [
        "df.isnull().sum()"
      ],
      "metadata": {
        "id": "W3DXbCkInpav"
      },
      "execution_count": null,
      "outputs": []
    },
    {
      "cell_type": "code",
      "source": [
        "df[\"Ano\"].fillna(0,inplace=True)"
      ],
      "metadata": {
        "id": "_coltY7bn92H"
      },
      "execution_count": null,
      "outputs": []
    },
    {
      "cell_type": "code",
      "source": [
        "df.dropna(how=\"all\", inplace=True)"
      ],
      "metadata": {
        "id": "RbR_BMlboBIo"
      },
      "execution_count": null,
      "outputs": []
    },
    {
      "cell_type": "code",
      "source": [
        "import random\n",
        "#criando uma nova coluna para data completa\n",
        "#Começando importando o ano e transformando para str\n",
        "df[\"Data\"] = df[\"Ano\"]\n",
        "df[\"Data\"] = df[\"Data\"].astype(str)\n",
        "#atribuindo um valor aleatório para mes e dia e salvando este valor em variáveis\n",
        "mes = str(random.randint(1,12))\n",
        "dia = str(random.randint(1,28))\n",
        "#concatenando os valores na nova coluna\n",
        "df[\"Data\"] = df[\"Data\"]+\"-\"+mes+\"-\"+dia\n",
        "#transformando a nova coluna para o tipo datetime do pandas\n",
        "df[\"Data\"] = pd.to_datetime(df[\"Data\"])"
      ],
      "metadata": {
        "id": "r2ITBlTIoDRz"
      },
      "execution_count": null,
      "outputs": []
    },
    {
      "cell_type": "code",
      "source": [
        "df.sample(20)"
      ],
      "metadata": {
        "id": "W79wJ_yAoGRt"
      },
      "execution_count": null,
      "outputs": []
    },
    {
      "cell_type": "code",
      "source": [
        "df.dtypes"
      ],
      "metadata": {
        "id": "SqNRtRFmoKGW"
      },
      "execution_count": null,
      "outputs": []
    },
    {
      "cell_type": "code",
      "source": [
        "df[\"Mês gerado\"], df[\"Dia gerado\"] = (df[\"Data\"].dt.month, df[\"Data\"].dt.day)"
      ],
      "metadata": {
        "id": "5QJ7wjL0oNjM"
      },
      "execution_count": null,
      "outputs": []
    },
    {
      "cell_type": "code",
      "source": [
        "df.sample(10)"
      ],
      "metadata": {
        "id": "qHjKKH4hoNh3"
      },
      "execution_count": null,
      "outputs": []
    },
    {
      "cell_type": "code",
      "source": [
        "df[\"Data\"].min()"
      ],
      "metadata": {
        "id": "auB1GDBnoXO_"
      },
      "execution_count": null,
      "outputs": []
    },
    {
      "cell_type": "code",
      "source": [
        "df[\"Data\"].max()"
      ],
      "metadata": {
        "id": "8-PYpkTCoYEW"
      },
      "execution_count": null,
      "outputs": []
    },
    {
      "cell_type": "code",
      "source": [],
      "metadata": {
        "id": "6kyIf5rtobSR"
      },
      "execution_count": null,
      "outputs": []
    },
    {
      "cell_type": "code",
      "source": [
        "df[\"Continente\"].value_counts(ascending=False)"
      ],
      "metadata": {
        "id": "Ezy8xzt4obTl"
      },
      "execution_count": null,
      "outputs": []
    },
    {
      "cell_type": "code",
      "source": [],
      "metadata": {
        "id": "PDaYONRdofas"
      },
      "execution_count": null,
      "outputs": []
    },
    {
      "cell_type": "code",
      "source": [
        "df[\"Continente\"].value_counts().plot.pie();"
      ],
      "metadata": {
        "id": "PpBgiv1jofcY"
      },
      "execution_count": null,
      "outputs": []
    },
    {
      "cell_type": "code",
      "source": [
        "df.groupby(df[\"Data\"].dt.year)[\"ExpVida\"].mean()"
      ],
      "metadata": {
        "id": "jVBs7_keoih6"
      },
      "execution_count": null,
      "outputs": []
    },
    {
      "cell_type": "code",
      "source": [
        "df.groupby(df[\"Data\"].dt.year)[\"ExpVida\"].mean()"
      ],
      "metadata": {
        "id": "nRD3J7hCok4W"
      },
      "execution_count": null,
      "outputs": []
    },
    {
      "cell_type": "code",
      "source": [
        "df.groupby(df[\"Continente\"])[\"ExpVida\"].mean().plot.bar();"
      ],
      "metadata": {
        "id": "vS97ovvronJE"
      },
      "execution_count": null,
      "outputs": []
    },
    {
      "cell_type": "code",
      "source": [
        "df.groupby(df[\"Pais\"])[\"ExpVida\"].max()"
      ],
      "metadata": {
        "id": "YolxZSQdorof"
      },
      "execution_count": null,
      "outputs": []
    },
    {
      "cell_type": "code",
      "source": [
        "df.loc[df[\"ExpVida\"]==df[\"ExpVida\"].max()]"
      ],
      "metadata": {
        "id": "toej4HuWouOO"
      },
      "execution_count": null,
      "outputs": []
    },
    {
      "cell_type": "code",
      "source": [
        "df.loc[df[\"ExpVida\"]==df[\"ExpVida\"].min()]"
      ],
      "metadata": {
        "id": "gpWObfzvoxQa"
      },
      "execution_count": null,
      "outputs": []
    },
    {
      "cell_type": "code",
      "source": [
        "lista = df[\"Pais\"].unique()\n",
        "\n",
        "#Identifica o menor valor da expextativa de vida para inicializar a variavel e ser removido após complitude da tabela\n",
        "df_maior = df.loc[df[\"ExpVida\"]==df[\"ExpVida\"].min()]\n",
        "#Identifica o index da linha utilizada para iniciar a variável\n",
        "deletarmenor = df.index[df[\"ExpVida\"]==df[\"ExpVida\"].min()].tolist()\n",
        "deletarmenor[0]\n",
        "\n",
        "#Identifica o maior valor da expextativa de vida para inicializar a variavel e ser removido após complitude da tabela\n",
        "df_menor = df.loc[df[\"ExpVida\"]==df[\"ExpVida\"].max()]\n",
        "#Identifica o index da linha utilizada para iniciar a variável\n",
        "deletarmaior = df.index[df[\"ExpVida\"]==df[\"ExpVida\"].max()].tolist()\n",
        "deletarmaior[0]\n",
        "\n",
        "#para cada país na tabela original, verifica qual o maior e o menor valor da expectativa de vida, e aloca em uma nova tabela\n",
        "for paises in lista:\n",
        "  pais = df.loc[df[\"Pais\"]==paises]\n",
        "  menor_temp = pais.loc[pais[\"ExpVida\"]==pais[\"ExpVida\"].min()]\n",
        "  df_menor = pd.concat([df_menor, menor_temp])\n",
        "  maior_temp = pais.loc[pais[\"ExpVida\"]==pais[\"ExpVida\"].max()]\n",
        "  #identifica a diferença de menor e maior Exp de Vida de cada país\n",
        "  maior_temp[\"Diferenca\"]=pais[\"ExpVida\"].max()-pais[\"ExpVida\"].min()\n",
        "  df_maior = pd.concat([df_maior, maior_temp])\n",
        "\n",
        "#remove os valores iniciais utilizados para declarar cada variável\n",
        "df_maior=df_maior.drop(index = deletarmenor[0])\n",
        "df_menor=df_menor.drop(index = deletarmaior[0])\n",
        "\n",
        "#Unifica as duas tabelas em uma única tabela\n",
        "df_maior_e_menor = pd.concat([df_maior,df_menor])\n",
        "\n",
        "#Mostra os 5 maiores valores de expectativa de vida por país\n",
        "df_maior.sort_values(by=[\"ExpVida\"],ascending=False).head(5)"
      ],
      "metadata": {
        "id": "bUT75DXHo4Zy"
      },
      "execution_count": null,
      "outputs": []
    },
    {
      "cell_type": "code",
      "source": [
        "\n",
        "df_menor.sort_values(by=[\"ExpVida\"],ascending=True).head(5)"
      ],
      "metadata": {
        "id": "uJe4eRBeo5Uz"
      },
      "execution_count": null,
      "outputs": []
    },
    {
      "cell_type": "code",
      "source": [
        "maiores_diferencas = df_maior_e_menor.sort_values(by=[\"Diferenca\"],ascending=False).head(5)\n",
        "import matplotlib.pyplot as plt\n",
        "plt.xlabel(\"Pais\")\n",
        "plt.ylabel(\"Aumento de Exp de Vida\")\n",
        "plt.title(\"Maiores aumentos de Exp de Vida\")\n",
        "plt.bar(maiores_diferencas[\"Pais\"],maiores_diferencas[\"Diferenca\"]);\n",
        "plt.savefig(\"Grafico do aumento de Expectativa de vida.png\")"
      ],
      "metadata": {
        "id": "revJnM4To-B5"
      },
      "execution_count": null,
      "outputs": []
    },
    {
      "cell_type": "code",
      "source": [],
      "metadata": {
        "id": "j6GChkEapBRs"
      },
      "execution_count": null,
      "outputs": []
    }
  ]
}